{
 "cells": [
  {
   "cell_type": "markdown",
   "id": "f0758644",
   "metadata": {},
   "source": [
    "### In this notebook, we will implement linear regression with one variable to predict profits for a food truck."
   ]
  },
  {
   "cell_type": "markdown",
   "id": "a0c978aa",
   "metadata": {},
   "source": [
    "# Introduction"
   ]
  },
  {
   "cell_type": "markdown",
   "id": "f77becc2",
   "metadata": {},
   "source": [
    "#### Suppose you are the CEO of a restaurant franchise and are considering different cities for opening a new outlet. The chain already has trucks in various cities and you have data for profits and populations from the cities.\n",
    "\n",
    "#### You would like to use this data to help you select which city to expand to next.\n",
    "\n",
    "#### The file `ex1data1.txt` contains the dataset for our linear regression problem. The first column is the population of a city and the second column is the profit of a food truck in that city. A negative value for profit indicates a loss.\n",
    "\n",
    "#### Our task is to build a linear regression model to predict the profit for a new food truck based on the population of the city it will be located in."
   ]
  },
  {
   "cell_type": "markdown",
   "id": "95bf0b22",
   "metadata": {},
   "source": [
    "# Task"
   ]
  },
  {
   "cell_type": "markdown",
   "id": "8bde28d0",
   "metadata": {},
   "source": [
    "### 1- Download the dataset `ex1data1.txt` and load it into a Pandas DataFrame.\n",
    "### 2- Visualize the data using a scatter plot.\n",
    "### 3- Implement gradient descent to learn the parameters $\\theta_0$ and $\\theta_1$ for the linear regression model.\n",
    "### 4- Plot the linear regression line on the scatter plot.\n",
    "### 5- Use the model to predict the profit for a city with a population of 35,000 people and a city with a population of 70,000 people.\n"
   ]
  },
  {
   "cell_type": "markdown",
   "id": "7a7ca70f",
   "metadata": {},
   "source": [
    "# Bonus Task\n"
   ]
  },
  {
   "cell_type": "markdown",
   "id": "b234ed84",
   "metadata": {},
   "source": [
    "### 1- Implement linear regression using the Normal Equation instead of gradient descent.\n",
    "### 2- Compare the results of the two methods (gradient descent vs. normal equation)."
   ]
  },
  {
   "cell_type": "markdown",
   "id": "5f0b57be",
   "metadata": {},
   "source": [
    "### Good luck!"
   ]
  }
 ],
 "metadata": {
  "kernelspec": {
   "display_name": "Python 3 (ipykernel)",
   "language": "python",
   "name": "python3"
  },
  "language_info": {
   "codemirror_mode": {
    "name": "ipython",
    "version": 3
   },
   "file_extension": ".py",
   "mimetype": "text/x-python",
   "name": "python",
   "nbconvert_exporter": "python",
   "pygments_lexer": "ipython3",
   "version": "3.9.13"
  }
 },
 "nbformat": 4,
 "nbformat_minor": 5
}
