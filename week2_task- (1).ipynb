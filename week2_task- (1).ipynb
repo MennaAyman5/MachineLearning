{
 "cells": [
  {
   "cell_type": "markdown",
   "id": "10bdc954",
   "metadata": {},
   "source": [
    "<h1><center><center><h1><h1><center><span style=\"color:#2189b5\">Linear Regression with Multiple Variables</span><center><h1>"
   ]
  },
  {
   "cell_type": "markdown",
   "id": "bcfaf985",
   "metadata": {},
   "source": [
    "## In this notebook, we will implement linear regression with multiple variables to predict the prices of houses, using scikit-learn.\n",
    "\n",
    "### Introduction :\n",
    "Suppose you are selling your house and want to know what would be a good price to list it at. You have a dataset of houses with features such as the size of the house, the number of bedrooms, and the age of the house, along with their corresponding prices.\n",
    "\n",
    "You would like to use this data to build a linear regression model that can predict the price of a house based on its features.\n",
    "\n",
    "### This notebook contains :\n",
    "The dataset for our linear regression problem. The first column is the size of the house in square feet, the second column is the number of bedrooms, and the third column is the House Age, forth column is the Price of the house.\n",
    "\n",
    "### Task : \n",
    "Build a linear regression model to predict the price of a house based on its size and number of bedrooms, using scikit-learn.\n",
    "\n",
    "1.Perform exploratory data analysis (EDA) to understand the dataset.<br>\n",
    "2.Implement feature scaling to normalize the features.<br>\n",
    "3.Use scikit-learn's LinearRegression model to fit the data and learn the parameters.<br>\n",
    "4.Use the trained model to predict the price of a house with 1650 square feet and 3 bedrooms.\n",
    "\n",
    "### Bonus Task : \n",
    "1.Implement gradient descent or normal equation to solve for the optimal parameters without using scikit-learn.<br>\n",
    "2.Compare the results of the scikit-learn model with the results from the custom implementation."
   ]
  },
  {
   "cell_type": "markdown",
   "id": "9fcf8323",
   "metadata": {},
   "source": [
    "# Libraries you will need :\n"
   ]
  },
  {
   "cell_type": "code",
   "execution_count": 303,
   "id": "b3fb09bc",
   "metadata": {},
   "outputs": [],
   "source": [
    "import pandas as pd\n",
    "import numpy as np\n",
    "import matplotlib.pyplot as plt\n",
    "import seaborn as sns\n",
    "import copy, math\n",
    "np.set_printoptions(precision=2)"
   ]
  },
  {
   "cell_type": "code",
   "execution_count": 304,
   "id": "e2b1d537",
   "metadata": {},
   "outputs": [],
   "source": [
    "import warnings\n",
    "warnings.simplefilter(\"ignore\")"
   ]
  },
  {
   "cell_type": "markdown",
   "id": "3e69a60d",
   "metadata": {},
   "source": [
    "# The Dataset :\n",
    "### Just run this code for the datasets..."
   ]
  },
  {
   "cell_type": "code",
   "execution_count": 305,
   "id": "f8406734",
   "metadata": {},
   "outputs": [
    {
     "data": {
      "text/html": [
       "<div>\n",
       "<style scoped>\n",
       "    .dataframe tbody tr th:only-of-type {\n",
       "        vertical-align: middle;\n",
       "    }\n",
       "\n",
       "    .dataframe tbody tr th {\n",
       "        vertical-align: top;\n",
       "    }\n",
       "\n",
       "    .dataframe thead th {\n",
       "        text-align: right;\n",
       "    }\n",
       "</style>\n",
       "<table border=\"1\" class=\"dataframe\">\n",
       "  <thead>\n",
       "    <tr style=\"text-align: right;\">\n",
       "      <th></th>\n",
       "      <th>Size</th>\n",
       "      <th>Bedrooms</th>\n",
       "      <th>House Age</th>\n",
       "      <th>Price</th>\n",
       "    </tr>\n",
       "  </thead>\n",
       "  <tbody>\n",
       "    <tr>\n",
       "      <th>0</th>\n",
       "      <td>1500</td>\n",
       "      <td>3</td>\n",
       "      <td>10</td>\n",
       "      <td>250000</td>\n",
       "    </tr>\n",
       "    <tr>\n",
       "      <th>1</th>\n",
       "      <td>2000</td>\n",
       "      <td>4</td>\n",
       "      <td>5</td>\n",
       "      <td>350000</td>\n",
       "    </tr>\n",
       "    <tr>\n",
       "      <th>2</th>\n",
       "      <td>1600</td>\n",
       "      <td>3</td>\n",
       "      <td>8</td>\n",
       "      <td>275000</td>\n",
       "    </tr>\n",
       "    <tr>\n",
       "      <th>3</th>\n",
       "      <td>1200</td>\n",
       "      <td>2</td>\n",
       "      <td>15</td>\n",
       "      <td>200000</td>\n",
       "    </tr>\n",
       "    <tr>\n",
       "      <th>4</th>\n",
       "      <td>1800</td>\n",
       "      <td>3</td>\n",
       "      <td>3</td>\n",
       "      <td>320000</td>\n",
       "    </tr>\n",
       "    <tr>\n",
       "      <th>5</th>\n",
       "      <td>2200</td>\n",
       "      <td>4</td>\n",
       "      <td>2</td>\n",
       "      <td>400000</td>\n",
       "    </tr>\n",
       "    <tr>\n",
       "      <th>6</th>\n",
       "      <td>1300</td>\n",
       "      <td>2</td>\n",
       "      <td>12</td>\n",
       "      <td>220000</td>\n",
       "    </tr>\n",
       "    <tr>\n",
       "      <th>7</th>\n",
       "      <td>1900</td>\n",
       "      <td>4</td>\n",
       "      <td>6</td>\n",
       "      <td>380000</td>\n",
       "    </tr>\n",
       "    <tr>\n",
       "      <th>8</th>\n",
       "      <td>2100</td>\n",
       "      <td>4</td>\n",
       "      <td>4</td>\n",
       "      <td>390000</td>\n",
       "    </tr>\n",
       "    <tr>\n",
       "      <th>9</th>\n",
       "      <td>1700</td>\n",
       "      <td>3</td>\n",
       "      <td>9</td>\n",
       "      <td>300000</td>\n",
       "    </tr>\n",
       "    <tr>\n",
       "      <th>10</th>\n",
       "      <td>1400</td>\n",
       "      <td>2</td>\n",
       "      <td>13</td>\n",
       "      <td>240000</td>\n",
       "    </tr>\n",
       "    <tr>\n",
       "      <th>11</th>\n",
       "      <td>2000</td>\n",
       "      <td>4</td>\n",
       "      <td>7</td>\n",
       "      <td>350000</td>\n",
       "    </tr>\n",
       "    <tr>\n",
       "      <th>12</th>\n",
       "      <td>1100</td>\n",
       "      <td>2</td>\n",
       "      <td>14</td>\n",
       "      <td>190000</td>\n",
       "    </tr>\n",
       "    <tr>\n",
       "      <th>13</th>\n",
       "      <td>1300</td>\n",
       "      <td>2</td>\n",
       "      <td>11</td>\n",
       "      <td>230000</td>\n",
       "    </tr>\n",
       "    <tr>\n",
       "      <th>14</th>\n",
       "      <td>1500</td>\n",
       "      <td>3</td>\n",
       "      <td>10</td>\n",
       "      <td>260000</td>\n",
       "    </tr>\n",
       "    <tr>\n",
       "      <th>15</th>\n",
       "      <td>1700</td>\n",
       "      <td>3</td>\n",
       "      <td>8</td>\n",
       "      <td>280000</td>\n",
       "    </tr>\n",
       "    <tr>\n",
       "      <th>16</th>\n",
       "      <td>1900</td>\n",
       "      <td>4</td>\n",
       "      <td>5</td>\n",
       "      <td>360000</td>\n",
       "    </tr>\n",
       "    <tr>\n",
       "      <th>17</th>\n",
       "      <td>2100</td>\n",
       "      <td>4</td>\n",
       "      <td>2</td>\n",
       "      <td>400000</td>\n",
       "    </tr>\n",
       "    <tr>\n",
       "      <th>18</th>\n",
       "      <td>2300</td>\n",
       "      <td>4</td>\n",
       "      <td>1</td>\n",
       "      <td>420000</td>\n",
       "    </tr>\n",
       "    <tr>\n",
       "      <th>19</th>\n",
       "      <td>2500</td>\n",
       "      <td>5</td>\n",
       "      <td>6</td>\n",
       "      <td>450000</td>\n",
       "    </tr>\n",
       "  </tbody>\n",
       "</table>\n",
       "</div>"
      ],
      "text/plain": [
       "    Size  Bedrooms  House Age   Price\n",
       "0   1500         3         10  250000\n",
       "1   2000         4          5  350000\n",
       "2   1600         3          8  275000\n",
       "3   1200         2         15  200000\n",
       "4   1800         3          3  320000\n",
       "5   2200         4          2  400000\n",
       "6   1300         2         12  220000\n",
       "7   1900         4          6  380000\n",
       "8   2100         4          4  390000\n",
       "9   1700         3          9  300000\n",
       "10  1400         2         13  240000\n",
       "11  2000         4          7  350000\n",
       "12  1100         2         14  190000\n",
       "13  1300         2         11  230000\n",
       "14  1500         3         10  260000\n",
       "15  1700         3          8  280000\n",
       "16  1900         4          5  360000\n",
       "17  2100         4          2  400000\n",
       "18  2300         4          1  420000\n",
       "19  2500         5          6  450000"
      ]
     },
     "execution_count": 305,
     "metadata": {},
     "output_type": "execute_result"
    }
   ],
   "source": [
    "house_sizes = [1500, 2000, 1600, 1200, 1800, 2200, 1300, 1900, 2100, 1700, 1400, 2000, 1100, 1300, 1500, 1700, 1900, 2100, 2300, 2500]\n",
    "bedrooms = [3, 4, 3, 2, 3, 4, 2, 4, 4, 3, 2, 4, 2, 2, 3, 3, 4, 4, 4, 5]\n",
    "ages = [10, 5, 8, 15, 3, 2, 12, 6, 4, 9, 13, 7, 14, 11, 10, 8, 5, 2, 1, 6]\n",
    "prices = [250000, 350000, 275000, 200000, 320000, 400000, 220000, 380000, 390000, 300000, 240000, 350000, 190000, 230000, 260000, 280000, 360000, 400000, 420000, 450000]\n",
    "\n",
    "dff = pd.DataFrame({'Size': house_sizes, 'Bedrooms': bedrooms, 'House Age': ages, 'Price': prices})\n",
    "df = dff.copy()\n",
    "df"
   ]
  },
  {
   "cell_type": "markdown",
   "id": "895e777a",
   "metadata": {},
   "source": [
    "<h1><font color='#2189b5'> Perform exploratory data analysis (EDA) to understand the dataset.</font></h1>\n",
    "<br><br>"
   ]
  },
  {
   "cell_type": "code",
   "execution_count": 306,
   "id": "045981a2",
   "metadata": {},
   "outputs": [
    {
     "name": "stdout",
     "output_type": "stream",
     "text": [
      "<class 'pandas.core.frame.DataFrame'>\n",
      "RangeIndex: 20 entries, 0 to 19\n",
      "Data columns (total 4 columns):\n",
      " #   Column     Non-Null Count  Dtype\n",
      "---  ------     --------------  -----\n",
      " 0   Size       20 non-null     int64\n",
      " 1   Bedrooms   20 non-null     int64\n",
      " 2   House Age  20 non-null     int64\n",
      " 3   Price      20 non-null     int64\n",
      "dtypes: int64(4)\n",
      "memory usage: 768.0 bytes\n"
     ]
    }
   ],
   "source": [
    "df.info()"
   ]
  },
  {
   "cell_type": "code",
   "execution_count": 307,
   "id": "da6ea07b",
   "metadata": {},
   "outputs": [
    {
     "data": {
      "text/plain": [
       "(20, 4)"
      ]
     },
     "execution_count": 307,
     "metadata": {},
     "output_type": "execute_result"
    }
   ],
   "source": [
    "df.shape"
   ]
  },
  {
   "cell_type": "code",
   "execution_count": 308,
   "id": "41f3f063",
   "metadata": {},
   "outputs": [
    {
     "data": {
      "text/html": [
       "<div>\n",
       "<style scoped>\n",
       "    .dataframe tbody tr th:only-of-type {\n",
       "        vertical-align: middle;\n",
       "    }\n",
       "\n",
       "    .dataframe tbody tr th {\n",
       "        vertical-align: top;\n",
       "    }\n",
       "\n",
       "    .dataframe thead th {\n",
       "        text-align: right;\n",
       "    }\n",
       "</style>\n",
       "<table border=\"1\" class=\"dataframe\">\n",
       "  <thead>\n",
       "    <tr style=\"text-align: right;\">\n",
       "      <th></th>\n",
       "      <th>Size</th>\n",
       "      <th>Bedrooms</th>\n",
       "      <th>House Age</th>\n",
       "      <th>Price</th>\n",
       "    </tr>\n",
       "  </thead>\n",
       "  <tbody>\n",
       "    <tr>\n",
       "      <th>count</th>\n",
       "      <td>20.000000</td>\n",
       "      <td>20.000000</td>\n",
       "      <td>20.000000</td>\n",
       "      <td>20.000000</td>\n",
       "    </tr>\n",
       "    <tr>\n",
       "      <th>mean</th>\n",
       "      <td>1755.000000</td>\n",
       "      <td>3.250000</td>\n",
       "      <td>7.550000</td>\n",
       "      <td>313250.000000</td>\n",
       "    </tr>\n",
       "    <tr>\n",
       "      <th>std</th>\n",
       "      <td>389.973009</td>\n",
       "      <td>0.910465</td>\n",
       "      <td>4.160908</td>\n",
       "      <td>79144.687623</td>\n",
       "    </tr>\n",
       "    <tr>\n",
       "      <th>min</th>\n",
       "      <td>1100.000000</td>\n",
       "      <td>2.000000</td>\n",
       "      <td>1.000000</td>\n",
       "      <td>190000.000000</td>\n",
       "    </tr>\n",
       "    <tr>\n",
       "      <th>25%</th>\n",
       "      <td>1475.000000</td>\n",
       "      <td>2.750000</td>\n",
       "      <td>4.750000</td>\n",
       "      <td>247500.000000</td>\n",
       "    </tr>\n",
       "    <tr>\n",
       "      <th>50%</th>\n",
       "      <td>1750.000000</td>\n",
       "      <td>3.000000</td>\n",
       "      <td>7.500000</td>\n",
       "      <td>310000.000000</td>\n",
       "    </tr>\n",
       "    <tr>\n",
       "      <th>75%</th>\n",
       "      <td>2025.000000</td>\n",
       "      <td>4.000000</td>\n",
       "      <td>10.250000</td>\n",
       "      <td>382500.000000</td>\n",
       "    </tr>\n",
       "    <tr>\n",
       "      <th>max</th>\n",
       "      <td>2500.000000</td>\n",
       "      <td>5.000000</td>\n",
       "      <td>15.000000</td>\n",
       "      <td>450000.000000</td>\n",
       "    </tr>\n",
       "  </tbody>\n",
       "</table>\n",
       "</div>"
      ],
      "text/plain": [
       "              Size   Bedrooms  House Age          Price\n",
       "count    20.000000  20.000000  20.000000      20.000000\n",
       "mean   1755.000000   3.250000   7.550000  313250.000000\n",
       "std     389.973009   0.910465   4.160908   79144.687623\n",
       "min    1100.000000   2.000000   1.000000  190000.000000\n",
       "25%    1475.000000   2.750000   4.750000  247500.000000\n",
       "50%    1750.000000   3.000000   7.500000  310000.000000\n",
       "75%    2025.000000   4.000000  10.250000  382500.000000\n",
       "max    2500.000000   5.000000  15.000000  450000.000000"
      ]
     },
     "execution_count": 308,
     "metadata": {},
     "output_type": "execute_result"
    }
   ],
   "source": [
    "df.describe()"
   ]
  },
  {
   "cell_type": "code",
   "execution_count": 309,
   "id": "742d7da7",
   "metadata": {},
   "outputs": [
    {
     "data": {
      "text/plain": [
       "0"
      ]
     },
     "execution_count": 309,
     "metadata": {},
     "output_type": "execute_result"
    }
   ],
   "source": [
    "df.duplicated().sum()"
   ]
  },
  {
   "cell_type": "code",
   "execution_count": 310,
   "id": "bffd752d",
   "metadata": {},
   "outputs": [
    {
     "data": {
      "image/png": "[encoded data removed]",
      "text/plain": [
       "<Figure size 613.75x540 with 12 Axes>"
      ]
     },
     "metadata": {
      "needs_background": "light"
     },
     "output_type": "display_data"
    }
   ],
   "source": [
    "sns.pairplot(df, kind='scatter',hue='Price')\n",
    "plt.show()"
   ]
  },
  {
   "cell_type": "markdown",
   "id": "1e87ec8a",
   "metadata": {},
   "source": [
    "#### 1 - First understand how does each feature in the dataset effects the `price` of the house :"
   ]
  },
  {
   "cell_type": "code",
   "execution_count": 311,
   "id": "546180d4",
   "metadata": {},
   "outputs": [
    {
     "data": {
      "image/png": "[encoded data removed]",
      "text/plain": [
       "<Figure size 504x504 with 2 Axes>"
      ]
     },
     "metadata": {
      "needs_background": "light"
     },
     "output_type": "display_data"
    }
   ],
   "source": [
    "fig = plt.figure(figsize=(7,7))\n",
    "fig.add_subplot(2,1,1)\n",
    "sns.distplot(df['Price'])\n",
    "fig.add_subplot(2,1,2)\n",
    "sns.boxplot(x=df['Price'])\n",
    "plt.tight_layout()"
   ]
  },
  {
   "cell_type": "code",
   "execution_count": 312,
   "id": "c6073075",
   "metadata": {},
   "outputs": [
    {
     "data": {
      "text/plain": [
       "Index(['Size', 'Bedrooms', 'House Age', 'Price'], dtype='object')"
      ]
     },
     "execution_count": 312,
     "metadata": {},
     "output_type": "execute_result"
    }
   ],
   "source": [
    "df.columns"
   ]
  },
  {
   "cell_type": "code",
   "execution_count": 313,
   "id": "11e946e3",
   "metadata": {},
   "outputs": [
    {
     "data": {
      "text/plain": [
       "<matplotlib.collections.PathCollection at 0x17a8878e980>"
      ]
     },
     "execution_count": 313,
     "metadata": {},
     "output_type": "execute_result"
    },
    {
     "data": {
      "image/png": "[encoded data removed]",
      "text/plain": [
       "<Figure size 1152x360 with 3 Axes>"
      ]
     },
     "metadata": {
      "needs_background": "light"
     },
     "output_type": "display_data"
    }
   ],
   "source": [
    "## 1 - Write your code here :\n",
    "fig = plt.figure(figsize=(16,5))\n",
    "fig.add_subplot(1,3,1)\n",
    "plt.scatter(df['Size'],df['Price'])\n",
    "fig.add_subplot(1,3,2)\n",
    "plt.scatter(df['Bedrooms'],df['Price'])\n",
    "fig.add_subplot(1,3,3)\n",
    "plt.scatter(df['House Age'],df['Price'])"
   ]
  },
  {
   "cell_type": "markdown",
   "id": "d2c577db",
   "metadata": {},
   "source": [
    "<details>\n",
    "    <summary><Font color='blue'>Click for a hint</Font></summary>\n",
    "    <br><br>\n",
    "    Use Scatter Plots ;)\n",
    "</details>\n",
    "\n",
    "<br><br>"
   ]
  },
  {
   "cell_type": "markdown",
   "id": "ec8b29ba",
   "metadata": {},
   "source": [
    "#### 2 - Second Visualize the distribution of each of the continous features of the data :"
   ]
  },
  {
   "cell_type": "code",
   "execution_count": 314,
   "id": "f8c4c5fb",
   "metadata": {},
   "outputs": [
    {
     "data": {
      "text/plain": [
       "<AxesSubplot: xlabel='Price', ylabel='Density'>"
      ]
     },
     "execution_count": 314,
     "metadata": {},
     "output_type": "execute_result"
    },
    {
     "data": {
      "image/png": "[encoded data removed]",
      "text/plain": [
       "<Figure size 720x720 with 4 Axes>"
      ]
     },
     "metadata": {
      "needs_background": "light"
     },
     "output_type": "display_data"
    }
   ],
   "source": [
    "## 2 - Write your code here :\n",
    "fig = plt.figure(figsize=(10,10))\n",
    "fig.add_subplot(2,2,1)\n",
    "sns.kdeplot(df['Size'])\n",
    "fig.add_subplot(2,2,2)\n",
    "sns.kdeplot(df['Bedrooms'])\n",
    "fig.add_subplot(2,2,3)\n",
    "sns.kdeplot(df['House Age'])\n",
    "fig.add_subplot(2,2,4)\n",
    "sns.kdeplot(df['Price'])\n"
   ]
  },
  {
   "cell_type": "markdown",
   "id": "9f8114e3",
   "metadata": {},
   "source": [
    "<details>\n",
    "    <summary><Font color='blue'>Click for a hint</Font></summary>\n",
    "    <br><br>\n",
    "    Use KDE Plots ;)\n",
    "</details>\n",
    "\n",
    "<br><br>"
   ]
  },
  {
   "cell_type": "markdown",
   "id": "01b9ef2f",
   "metadata": {},
   "source": [
    "<h1><font color='#2189b5'>Briefly describe the insights you got after visualizing the data :</font></h1>\n",
    "<br><br>"
   ]
  },
  {
   "cell_type": "code",
   "execution_count": 315,
   "id": "73e2ff65",
   "metadata": {},
   "outputs": [
    {
     "data": {
      "text/plain": [
       "\"\\nI not after visualizing tha data that prices is effected with size and age of the house by linear's way.\\nData need to be scalling.\\ndata features is to some extent normal distributed\\nNo outlires.. the data is very smal:)\\nit is no very insights is data to make it brief:-(\\n\\n\""
      ]
     },
     "execution_count": 315,
     "metadata": {},
     "output_type": "execute_result"
    }
   ],
   "source": [
    "## 3 - Write what you noticed here :\n",
    "\n",
    "\"\"\"\n",
    "I not after visualizing tha data that prices is effected with size and age of the house by linear's way.\n",
    "Data need to be scalling.\n",
    "data features is to some extent normal distributed\n",
    "No outlires.. the data is very smal:)\n",
    "it is no very insights is data to make it brief:-(\n",
    "\n",
    "\"\"\""
   ]
  },
  {
   "cell_type": "markdown",
   "id": "ff9678a8",
   "metadata": {},
   "source": [
    "<h1><font color='#2189b5'>Look again at the dataframe then...</font></h1><br>\n",
    "- Store the target variable (price) in a variable y.<br>\n",
    "- Store the features in variable x.\n"
   ]
  },
  {
   "cell_type": "code",
   "execution_count": 316,
   "id": "4dc7a2f6",
   "metadata": {},
   "outputs": [],
   "source": [
    "# 4 - Write your code here :\n",
    "X = df.drop('Price', axis=1).values\n",
    "y = df['Price'].values"
   ]
  },
  {
   "cell_type": "code",
   "execution_count": 317,
   "id": "c9a54994",
   "metadata": {},
   "outputs": [],
   "source": [
    "# splitting train and test\n",
    "from sklearn.model_selection import train_test_split\n",
    "X_train, X_test, y_train, y_test = train_test_split(X, y, test_size=0.2, random_state=42)"
   ]
  },
  {
   "cell_type": "code",
   "execution_count": 318,
   "id": "3859a575",
   "metadata": {},
   "outputs": [
    {
     "data": {
      "text/plain": [
       "array([[1500,    3,   10],\n",
       "       [2100,    4,    2],\n",
       "       [1700,    3,    8],\n",
       "       [2000,    4,    5]], dtype=int64)"
      ]
     },
     "execution_count": 318,
     "metadata": {},
     "output_type": "execute_result"
    }
   ],
   "source": [
    "X_test"
   ]
  },
  {
   "cell_type": "markdown",
   "id": "56cc2fc4",
   "metadata": {},
   "source": [
    "<h1><font color='#2189b5'>Now for data preprocessing... implement feature scaling to normalize the features. </font></h1>\n",
    "<br><br>"
   ]
  },
  {
   "cell_type": "markdown",
   "id": "973b2c3b",
   "metadata": {},
   "source": [
    "#### there is many scaling methods found in sklearn.preprocessing \n",
    "https://scikit-learn.org/stable/modules/preprocessing.html"
   ]
  },
  {
   "cell_type": "markdown",
   "id": "f0f4baf8",
   "metadata": {},
   "source": [
    "#### Use Scaling to scale the features (Note you only scale x) :"
   ]
  },
  {
   "cell_type": "code",
   "execution_count": 319,
   "id": "a39dcd70",
   "metadata": {},
   "outputs": [],
   "source": [
    "## 5 - write your code here :\n",
    "# standardization scaler - fit&transform on train, fit only on test\n",
    "from sklearn.preprocessing import StandardScaler\n",
    "s_scaler = StandardScaler()\n",
    "X_train = s_scaler.fit_transform(X_train.astype(np.float))\n",
    "X_test = s_scaler.transform(X_test.astype(np.float))\n"
   ]
  },
  {
   "cell_type": "markdown",
   "id": "a77698bd",
   "metadata": {},
   "source": [
    "<h1><font color='#2189b5'>Based on the previous data let's build our Machine Learning model...</font></h1>\n",
    "<br><br>"
   ]
  },
  {
   "cell_type": "markdown",
   "id": "529e7c77",
   "metadata": {},
   "source": [
    "#### import linear regression from sklearn"
   ]
  },
  {
   "cell_type": "code",
   "execution_count": 320,
   "id": "b8b93225",
   "metadata": {},
   "outputs": [
    {
     "data": {
      "text/html": [
       "<style>#sk-container-id-7 {color: black;background-color: white;}#sk-container-id-7 pre{padding: 0;}#sk-container-id-7 div.sk-toggleable {background-color: white;}#sk-container-id-7 label.sk-toggleable__label {cursor: pointer;display: block;width: 100%;margin-bottom: 0;padding: 0.3em;box-sizing: border-box;text-align: center;}#sk-container-id-7 label.sk-toggleable__label-arrow:before {content: \"▸\";float: left;margin-right: 0.25em;color: #696969;}#sk-container-id-7 label.sk-toggleable__label-arrow:hover:before {color: black;}#sk-container-id-7 div.sk-estimator:hover label.sk-toggleable__label-arrow:before {color: black;}#sk-container-id-7 div.sk-toggleable__content {max-height: 0;max-width: 0;overflow: hidden;text-align: left;background-color: #f0f8ff;}#sk-container-id-7 div.sk-toggleable__content pre {margin: 0.2em;color: black;border-radius: 0.25em;background-color: #f0f8ff;}#sk-container-id-7 input.sk-toggleable__control:checked~div.sk-toggleable__content {max-height: 200px;max-width: 100%;overflow: auto;}#sk-container-id-7 input.sk-toggleable__control:checked~label.sk-toggleable__label-arrow:before {content: \"▾\";}#sk-container-id-7 div.sk-estimator input.sk-toggleable__control:checked~label.sk-toggleable__label {background-color: #d4ebff;}#sk-container-id-7 div.sk-label input.sk-toggleable__control:checked~label.sk-toggleable__label {background-color: #d4ebff;}#sk-container-id-7 input.sk-hidden--visually {border: 0;clip: rect(1px 1px 1px 1px);clip: rect(1px, 1px, 1px, 1px);height: 1px;margin: -1px;overflow: hidden;padding: 0;position: absolute;width: 1px;}#sk-container-id-7 div.sk-estimator {font-family: monospace;background-color: #f0f8ff;border: 1px dotted black;border-radius: 0.25em;box-sizing: border-box;margin-bottom: 0.5em;}#sk-container-id-7 div.sk-estimator:hover {background-color: #d4ebff;}#sk-container-id-7 div.sk-parallel-item::after {content: \"\";width: 100%;border-bottom: 1px solid gray;flex-grow: 1;}#sk-container-id-7 div.sk-label:hover label.sk-toggleable__label {background-color: #d4ebff;}#sk-container-id-7 div.sk-serial::before {content: \"\";position: absolute;border-left: 1px solid gray;box-sizing: border-box;top: 0;bottom: 0;left: 50%;z-index: 0;}#sk-container-id-7 div.sk-serial {display: flex;flex-direction: column;align-items: center;background-color: white;padding-right: 0.2em;padding-left: 0.2em;position: relative;}#sk-container-id-7 div.sk-item {position: relative;z-index: 1;}#sk-container-id-7 div.sk-parallel {display: flex;align-items: stretch;justify-content: center;background-color: white;position: relative;}#sk-container-id-7 div.sk-item::before, #sk-container-id-7 div.sk-parallel-item::before {content: \"\";position: absolute;border-left: 1px solid gray;box-sizing: border-box;top: 0;bottom: 0;left: 50%;z-index: -1;}#sk-container-id-7 div.sk-parallel-item {display: flex;flex-direction: column;z-index: 1;position: relative;background-color: white;}#sk-container-id-7 div.sk-parallel-item:first-child::after {align-self: flex-end;width: 50%;}#sk-container-id-7 div.sk-parallel-item:last-child::after {align-self: flex-start;width: 50%;}#sk-container-id-7 div.sk-parallel-item:only-child::after {width: 0;}#sk-container-id-7 div.sk-dashed-wrapped {border: 1px dashed gray;margin: 0 0.4em 0.5em 0.4em;box-sizing: border-box;padding-bottom: 0.4em;background-color: white;}#sk-container-id-7 div.sk-label label {font-family: monospace;font-weight: bold;display: inline-block;line-height: 1.2em;}#sk-container-id-7 div.sk-label-container {text-align: center;}#sk-container-id-7 div.sk-container {/* jupyter's `normalize.less` sets `[hidden] { display: none; }` but bootstrap.min.css set `[hidden] { display: none !important; }` so we also need the `!important` here to be able to override the default hidden behavior on the sphinx rendered scikit-learn.org. See: https://github.com/scikit-learn/scikit-learn/issues/21755 */display: inline-block !important;position: relative;}#sk-container-id-7 div.sk-text-repr-fallback {display: none;}</style><div id=\"sk-container-id-7\" class=\"sk-top-container\"><div class=\"sk-text-repr-fallback\"><pre>LinearRegression()</pre><b>In a Jupyter environment, please rerun this cell to show the HTML representation or trust the notebook. <br />On GitHub, the HTML representation is unable to render, please try loading this page with nbviewer.org.</b></div><div class=\"sk-container\" hidden><div class=\"sk-item\"><div class=\"sk-estimator sk-toggleable\"><input class=\"sk-toggleable__control sk-hidden--visually\" id=\"sk-estimator-id-7\" type=\"checkbox\" checked><label for=\"sk-estimator-id-7\" class=\"sk-toggleable__label sk-toggleable__label-arrow\">LinearRegression</label><div class=\"sk-toggleable__content\"><pre>LinearRegression()</pre></div></div></div></div></div>"
      ],
      "text/plain": [
       "LinearRegression()"
      ]
     },
     "execution_count": 320,
     "metadata": {},
     "output_type": "execute_result"
    }
   ],
   "source": [
    "# 6 - Write your code here :\n",
    "# Multiple Liner Regression\n",
    "from sklearn.linear_model import LinearRegression\n",
    "regressor = LinearRegression()  \n",
    "regressor.fit(X_train, y_train)\n"
   ]
  },
  {
   "cell_type": "code",
   "execution_count": 321,
   "id": "0ae83742",
   "metadata": {},
   "outputs": [
    {
     "name": "stdout",
     "output_type": "stream",
     "text": [
      "311562.5\n",
      "[52570.64 20070.79 -9620.91]\n"
     ]
    }
   ],
   "source": [
    "#evaluate the model (intercept and slope)\n",
    "print(regressor.intercept_)\n",
    "print(regressor.coef_)"
   ]
  },
  {
   "cell_type": "code",
   "execution_count": 322,
   "id": "ec6d737c",
   "metadata": {},
   "outputs": [],
   "source": [
    "#predicting the test set result\n",
    "y_pred = regressor.predict(X_test)"
   ]
  },
  {
   "cell_type": "code",
   "execution_count": 323,
   "id": "908f0d7e",
   "metadata": {},
   "outputs": [
    {
     "data": {
      "text/html": [
       "<div>\n",
       "<style scoped>\n",
       "    .dataframe tbody tr th:only-of-type {\n",
       "        vertical-align: middle;\n",
       "    }\n",
       "\n",
       "    .dataframe tbody tr th {\n",
       "        vertical-align: top;\n",
       "    }\n",
       "\n",
       "    .dataframe thead th {\n",
       "        text-align: right;\n",
       "    }\n",
       "</style>\n",
       "<table border=\"1\" class=\"dataframe\">\n",
       "  <thead>\n",
       "    <tr style=\"text-align: right;\">\n",
       "      <th></th>\n",
       "      <th>Coefficient</th>\n",
       "    </tr>\n",
       "  </thead>\n",
       "  <tbody>\n",
       "    <tr>\n",
       "      <th>Size</th>\n",
       "      <td>52570.636472</td>\n",
       "    </tr>\n",
       "    <tr>\n",
       "      <th>Bedrooms</th>\n",
       "      <td>20070.787165</td>\n",
       "    </tr>\n",
       "    <tr>\n",
       "      <th>House Age</th>\n",
       "      <td>-9620.906181</td>\n",
       "    </tr>\n",
       "  </tbody>\n",
       "</table>\n",
       "</div>"
      ],
      "text/plain": [
       "            Coefficient\n",
       "Size       52570.636472\n",
       "Bedrooms   20070.787165\n",
       "House Age  -9620.906181"
      ]
     },
     "execution_count": 323,
     "metadata": {},
     "output_type": "execute_result"
    }
   ],
   "source": [
    "# put results as a DataFrame\n",
    "coeff_df = pd.DataFrame(regressor.coef_, df.drop('Price',axis =1).columns, columns=['Coefficient'])\n",
    "coeff_df"
   ]
  },
  {
   "cell_type": "code",
   "execution_count": 324,
   "id": "9755edab",
   "metadata": {},
   "outputs": [
    {
     "data": {
      "text/plain": [
       "<AxesSubplot: ylabel='Density'>"
      ]
     },
     "execution_count": 324,
     "metadata": {},
     "output_type": "execute_result"
    },
    {
     "data": {
      "image/png": "[encoded data removed]",
      "text/plain": [
       "<Figure size 360x360 with 1 Axes>"
      ]
     },
     "metadata": {
      "needs_background": "light"
     },
     "output_type": "display_data"
    }
   ],
   "source": [
    "# visualizing residuals\n",
    "fig = plt.figure(figsize=(5,5))\n",
    "residuals = (y_test- y_pred)\n",
    "sns.distplot(residuals)"
   ]
  },
  {
   "cell_type": "markdown",
   "id": "e9f56dc3",
   "metadata": {},
   "source": [
    "<details>\n",
    "    <summary><Font color='blue'>Click for a hint</Font></summary>\n",
    "    <br><br>\n",
    "    from sklearn.linear_model import LinearRegression\n",
    "</details>\n",
    "\n",
    "<br><br>"
   ]
  },
  {
   "cell_type": "code",
   "execution_count": 325,
   "id": "cc2fdd7d",
   "metadata": {},
   "outputs": [
    {
     "data": {
      "text/html": [
       "<div>\n",
       "<style scoped>\n",
       "    .dataframe tbody tr th:only-of-type {\n",
       "        vertical-align: middle;\n",
       "    }\n",
       "\n",
       "    .dataframe tbody tr th {\n",
       "        vertical-align: top;\n",
       "    }\n",
       "\n",
       "    .dataframe thead th {\n",
       "        text-align: right;\n",
       "    }\n",
       "</style>\n",
       "<table border=\"1\" class=\"dataframe\">\n",
       "  <thead>\n",
       "    <tr style=\"text-align: right;\">\n",
       "      <th></th>\n",
       "      <th>Actual</th>\n",
       "      <th>Predicted</th>\n",
       "    </tr>\n",
       "  </thead>\n",
       "  <tbody>\n",
       "    <tr>\n",
       "      <th>0</th>\n",
       "      <td>250000</td>\n",
       "      <td>271994.261772</td>\n",
       "    </tr>\n",
       "    <tr>\n",
       "      <th>1</th>\n",
       "      <td>400000</td>\n",
       "      <td>389088.714819</td>\n",
       "    </tr>\n",
       "    <tr>\n",
       "      <th>2</th>\n",
       "      <td>280000</td>\n",
       "      <td>302459.695783</td>\n",
       "    </tr>\n",
       "    <tr>\n",
       "      <th>3</th>\n",
       "      <td>350000</td>\n",
       "      <td>369286.820293</td>\n",
       "    </tr>\n",
       "  </tbody>\n",
       "</table>\n",
       "</div>"
      ],
      "text/plain": [
       "   Actual      Predicted\n",
       "0  250000  271994.261772\n",
       "1  400000  389088.714819\n",
       "2  280000  302459.695783\n",
       "3  350000  369286.820293"
      ]
     },
     "execution_count": 325,
     "metadata": {},
     "output_type": "execute_result"
    }
   ],
   "source": [
    "#compare actual output values with predicted values\n",
    "y_pred = regressor.predict(X_test)\n",
    "df = pd.DataFrame({'Actual': y_test, 'Predicted': y_pred})\n",
    "df1 = df.head(10)\n",
    "df1"
   ]
  },
  {
   "cell_type": "code",
   "execution_count": 326,
   "id": "addbdf02",
   "metadata": {},
   "outputs": [
    {
     "name": "stdout",
     "output_type": "stream",
     "text": [
      "MAE: 18663.01575735495\n",
      "MSE: 369805766.72424364\n",
      "RMSE: 19230.334545302212\n",
      "VarScore: 0.9433707070281049\n"
     ]
    }
   ],
   "source": [
    "# evaluate the performance of the algorithm (MAE - MSE - RMSE)\n",
    "from sklearn import metrics\n",
    "print('MAE:', metrics.mean_absolute_error(y_test, y_pred))  \n",
    "print('MSE:', metrics.mean_squared_error(y_test, y_pred))  \n",
    "print('RMSE:', np.sqrt(metrics.mean_squared_error(y_test, y_pred)))\n",
    "print('VarScore:',metrics.explained_variance_score(y_test,y_pred))"
   ]
  },
  {
   "cell_type": "markdown",
   "id": "aba7b22a",
   "metadata": {},
   "source": [
    "#### Ok remember that we imported LinearRegression from sklearn, now We want to create object from this class....<br><br>Make object from LinearRegression class and name it as `lr`"
   ]
  },
  {
   "cell_type": "code",
   "execution_count": 327,
   "id": "6651378a",
   "metadata": {},
   "outputs": [],
   "source": [
    "# 7 - Write your code here :\n",
    "lr = LinearRegression() \n"
   ]
  },
  {
   "cell_type": "markdown",
   "id": "73ff879f",
   "metadata": {},
   "source": [
    "#### Fit your linear regression model on the training data that you have, which is x and y..."
   ]
  },
  {
   "cell_type": "code",
   "execution_count": 328,
   "id": "813b9edd",
   "metadata": {},
   "outputs": [
    {
     "data": {
      "text/html": [
       "<style>#sk-container-id-8 {color: black;background-color: white;}#sk-container-id-8 pre{padding: 0;}#sk-container-id-8 div.sk-toggleable {background-color: white;}#sk-container-id-8 label.sk-toggleable__label {cursor: pointer;display: block;width: 100%;margin-bottom: 0;padding: 0.3em;box-sizing: border-box;text-align: center;}#sk-container-id-8 label.sk-toggleable__label-arrow:before {content: \"▸\";float: left;margin-right: 0.25em;color: #696969;}#sk-container-id-8 label.sk-toggleable__label-arrow:hover:before {color: black;}#sk-container-id-8 div.sk-estimator:hover label.sk-toggleable__label-arrow:before {color: black;}#sk-container-id-8 div.sk-toggleable__content {max-height: 0;max-width: 0;overflow: hidden;text-align: left;background-color: #f0f8ff;}#sk-container-id-8 div.sk-toggleable__content pre {margin: 0.2em;color: black;border-radius: 0.25em;background-color: #f0f8ff;}#sk-container-id-8 input.sk-toggleable__control:checked~div.sk-toggleable__content {max-height: 200px;max-width: 100%;overflow: auto;}#sk-container-id-8 input.sk-toggleable__control:checked~label.sk-toggleable__label-arrow:before {content: \"▾\";}#sk-container-id-8 div.sk-estimator input.sk-toggleable__control:checked~label.sk-toggleable__label {background-color: #d4ebff;}#sk-container-id-8 div.sk-label input.sk-toggleable__control:checked~label.sk-toggleable__label {background-color: #d4ebff;}#sk-container-id-8 input.sk-hidden--visually {border: 0;clip: rect(1px 1px 1px 1px);clip: rect(1px, 1px, 1px, 1px);height: 1px;margin: -1px;overflow: hidden;padding: 0;position: absolute;width: 1px;}#sk-container-id-8 div.sk-estimator {font-family: monospace;background-color: #f0f8ff;border: 1px dotted black;border-radius: 0.25em;box-sizing: border-box;margin-bottom: 0.5em;}#sk-container-id-8 div.sk-estimator:hover {background-color: #d4ebff;}#sk-container-id-8 div.sk-parallel-item::after {content: \"\";width: 100%;border-bottom: 1px solid gray;flex-grow: 1;}#sk-container-id-8 div.sk-label:hover label.sk-toggleable__label {background-color: #d4ebff;}#sk-container-id-8 div.sk-serial::before {content: \"\";position: absolute;border-left: 1px solid gray;box-sizing: border-box;top: 0;bottom: 0;left: 50%;z-index: 0;}#sk-container-id-8 div.sk-serial {display: flex;flex-direction: column;align-items: center;background-color: white;padding-right: 0.2em;padding-left: 0.2em;position: relative;}#sk-container-id-8 div.sk-item {position: relative;z-index: 1;}#sk-container-id-8 div.sk-parallel {display: flex;align-items: stretch;justify-content: center;background-color: white;position: relative;}#sk-container-id-8 div.sk-item::before, #sk-container-id-8 div.sk-parallel-item::before {content: \"\";position: absolute;border-left: 1px solid gray;box-sizing: border-box;top: 0;bottom: 0;left: 50%;z-index: -1;}#sk-container-id-8 div.sk-parallel-item {display: flex;flex-direction: column;z-index: 1;position: relative;background-color: white;}#sk-container-id-8 div.sk-parallel-item:first-child::after {align-self: flex-end;width: 50%;}#sk-container-id-8 div.sk-parallel-item:last-child::after {align-self: flex-start;width: 50%;}#sk-container-id-8 div.sk-parallel-item:only-child::after {width: 0;}#sk-container-id-8 div.sk-dashed-wrapped {border: 1px dashed gray;margin: 0 0.4em 0.5em 0.4em;box-sizing: border-box;padding-bottom: 0.4em;background-color: white;}#sk-container-id-8 div.sk-label label {font-family: monospace;font-weight: bold;display: inline-block;line-height: 1.2em;}#sk-container-id-8 div.sk-label-container {text-align: center;}#sk-container-id-8 div.sk-container {/* jupyter's `normalize.less` sets `[hidden] { display: none; }` but bootstrap.min.css set `[hidden] { display: none !important; }` so we also need the `!important` here to be able to override the default hidden behavior on the sphinx rendered scikit-learn.org. See: https://github.com/scikit-learn/scikit-learn/issues/21755 */display: inline-block !important;position: relative;}#sk-container-id-8 div.sk-text-repr-fallback {display: none;}</style><div id=\"sk-container-id-8\" class=\"sk-top-container\"><div class=\"sk-text-repr-fallback\"><pre>LinearRegression()</pre><b>In a Jupyter environment, please rerun this cell to show the HTML representation or trust the notebook. <br />On GitHub, the HTML representation is unable to render, please try loading this page with nbviewer.org.</b></div><div class=\"sk-container\" hidden><div class=\"sk-item\"><div class=\"sk-estimator sk-toggleable\"><input class=\"sk-toggleable__control sk-hidden--visually\" id=\"sk-estimator-id-8\" type=\"checkbox\" checked><label for=\"sk-estimator-id-8\" class=\"sk-toggleable__label sk-toggleable__label-arrow\">LinearRegression</label><div class=\"sk-toggleable__content\"><pre>LinearRegression()</pre></div></div></div></div></div>"
      ],
      "text/plain": [
       "LinearRegression()"
      ]
     },
     "execution_count": 328,
     "metadata": {},
     "output_type": "execute_result"
    }
   ],
   "source": [
    "# 8 - Write your code here :\n",
    "lr.fit(X_train, y_train)\n"
   ]
  },
  {
   "cell_type": "markdown",
   "id": "154f883d",
   "metadata": {},
   "source": [
    "#### Let's have a look on the parameters of the model that you trained :)"
   ]
  },
  {
   "cell_type": "code",
   "execution_count": 329,
   "id": "9e4dbca0",
   "metadata": {},
   "outputs": [
    {
     "name": "stdout",
     "output_type": "stream",
     "text": [
      "intercept_:  311562.5\n",
      "coef_:  [52570.64 20070.79 -9620.91]\n"
     ]
    }
   ],
   "source": [
    "# 9 - Write your code here :\n",
    "#evaluate the model (intercept and slope)\n",
    "print('intercept_: ',regressor.intercept_)\n",
    "print('coef_: ', regressor.coef_) \n"
   ]
  },
  {
   "cell_type": "markdown",
   "id": "2258b014",
   "metadata": {},
   "source": [
    "<details>\n",
    "    <summary><Font color='blue'>Click for a hint</Font></summary>\n",
    "    <br><br>\n",
    "    to get weights use : lr.coef_ <br><br>\n",
    "    to get bias use : lr.intercept_\n",
    "</details>\n",
    "\n",
    "<br><br>"
   ]
  },
  {
   "cell_type": "markdown",
   "id": "f34fbcfb",
   "metadata": {},
   "source": [
    "\n",
    "<h1><font color='#2189b5'>Now your model is trained and it is now ready for making new predictions</font></h1>\n",
    "<h3><font color='blue'>Note that to make new predictions you should make same scaling and preprocessing on the new test data also...</font></h3>\n",
    "<br><br>"
   ]
  },
  {
   "cell_type": "markdown",
   "id": "b0d1a193",
   "metadata": {},
   "source": [
    "#### Use the trained model to predict the price of a house with `1650 square feet`, `3 bedrooms` and `7 years age`."
   ]
  },
  {
   "cell_type": "code",
   "execution_count": 330,
   "id": "a29cc7e0",
   "metadata": {},
   "outputs": [
    {
     "data": {
      "text/plain": [
       "array([[-0.58, -0.2 ,  0.5 ],\n",
       "       [ 0.89,  0.86, -1.4 ],\n",
       "       [-0.09, -0.2 ,  0.03],\n",
       "       [ 0.65,  0.86, -0.68]])"
      ]
     },
     "execution_count": 330,
     "metadata": {},
     "output_type": "execute_result"
    }
   ],
   "source": [
    "X_test"
   ]
  },
  {
   "cell_type": "code",
   "execution_count": 331,
   "id": "0bb2306f",
   "metadata": {},
   "outputs": [
    {
     "data": {
      "text/plain": [
       "array([[1650,    3,    7]])"
      ]
     },
     "execution_count": 331,
     "metadata": {},
     "output_type": "execute_result"
    }
   ],
   "source": [
    "Z_test=[1650,3,7]\n",
    "Z_test = np.array(Z_test).reshape(1,3)\n",
    "Z_test"
   ]
  },
  {
   "cell_type": "code",
   "execution_count": 332,
   "id": "ea67774b",
   "metadata": {},
   "outputs": [
    {
     "data": {
      "text/plain": [
       "array([[-0.22, -0.2 , -0.21]])"
      ]
     },
     "execution_count": 332,
     "metadata": {},
     "output_type": "execute_result"
    }
   ],
   "source": [
    "Z_test = s_scaler.transform(Z_test.astype(np.float))\n",
    "Z_test"
   ]
  },
  {
   "cell_type": "code",
   "execution_count": 333,
   "id": "216a7afa",
   "metadata": {},
   "outputs": [
    {
     "data": {
      "text/html": [
       "<div>\n",
       "<style scoped>\n",
       "    .dataframe tbody tr th:only-of-type {\n",
       "        vertical-align: middle;\n",
       "    }\n",
       "\n",
       "    .dataframe tbody tr th {\n",
       "        vertical-align: top;\n",
       "    }\n",
       "\n",
       "    .dataframe thead th {\n",
       "        text-align: right;\n",
       "    }\n",
       "</style>\n",
       "<table border=\"1\" class=\"dataframe\">\n",
       "  <thead>\n",
       "    <tr style=\"text-align: right;\">\n",
       "      <th></th>\n",
       "      <th>0</th>\n",
       "    </tr>\n",
       "  </thead>\n",
       "  <tbody>\n",
       "    <tr>\n",
       "      <th>Price Predicted:-</th>\n",
       "      <td>298270.220421</td>\n",
       "    </tr>\n",
       "  </tbody>\n",
       "</table>\n",
       "</div>"
      ],
      "text/plain": [
       "                               0\n",
       "Price Predicted:-  298270.220421"
      ]
     },
     "execution_count": 333,
     "metadata": {},
     "output_type": "execute_result"
    }
   ],
   "source": [
    "Z_pred = regressor.predict(Z_test)\n",
    "pr = pd.DataFrame({'Price Predicted:-': Z_pred}).T\n",
    "pr"
   ]
  },
  {
   "cell_type": "markdown",
   "id": "1e64949f",
   "metadata": {},
   "source": [
    "<br><br>\n",
    "<h1><font color='BLUE'>BONUS Questions : </font></h1>"
   ]
  },
  {
   "cell_type": "markdown",
   "id": "17ef5870",
   "metadata": {},
   "source": [
    "#### Implement gradient descent or normal equation to solve for the optimal parameters without using scikit-learn."
   ]
  },
  {
   "cell_type": "code",
   "execution_count": 334,
   "id": "c1972db9",
   "metadata": {},
   "outputs": [
    {
     "data": {
      "text/html": [
       "<div>\n",
       "<style scoped>\n",
       "    .dataframe tbody tr th:only-of-type {\n",
       "        vertical-align: middle;\n",
       "    }\n",
       "\n",
       "    .dataframe tbody tr th {\n",
       "        vertical-align: top;\n",
       "    }\n",
       "\n",
       "    .dataframe thead th {\n",
       "        text-align: right;\n",
       "    }\n",
       "</style>\n",
       "<table border=\"1\" class=\"dataframe\">\n",
       "  <thead>\n",
       "    <tr style=\"text-align: right;\">\n",
       "      <th></th>\n",
       "      <th>Size</th>\n",
       "      <th>Bedrooms</th>\n",
       "      <th>House Age</th>\n",
       "      <th>Price</th>\n",
       "    </tr>\n",
       "  </thead>\n",
       "  <tbody>\n",
       "    <tr>\n",
       "      <th>0</th>\n",
       "      <td>-0.653891</td>\n",
       "      <td>-0.274585</td>\n",
       "      <td>0.588814</td>\n",
       "      <td>-0.799169</td>\n",
       "    </tr>\n",
       "    <tr>\n",
       "      <th>1</th>\n",
       "      <td>0.628249</td>\n",
       "      <td>0.823754</td>\n",
       "      <td>-0.612847</td>\n",
       "      <td>0.464339</td>\n",
       "    </tr>\n",
       "    <tr>\n",
       "      <th>2</th>\n",
       "      <td>-0.397463</td>\n",
       "      <td>-0.274585</td>\n",
       "      <td>0.108149</td>\n",
       "      <td>-0.483292</td>\n",
       "    </tr>\n",
       "    <tr>\n",
       "      <th>3</th>\n",
       "      <td>-1.423175</td>\n",
       "      <td>-1.372924</td>\n",
       "      <td>1.790474</td>\n",
       "      <td>-1.430924</td>\n",
       "    </tr>\n",
       "    <tr>\n",
       "      <th>4</th>\n",
       "      <td>0.115393</td>\n",
       "      <td>-0.274585</td>\n",
       "      <td>-1.093511</td>\n",
       "      <td>0.085287</td>\n",
       "    </tr>\n",
       "  </tbody>\n",
       "</table>\n",
       "</div>"
      ],
      "text/plain": [
       "       Size  Bedrooms  House Age     Price\n",
       "0 -0.653891 -0.274585   0.588814 -0.799169\n",
       "1  0.628249  0.823754  -0.612847  0.464339\n",
       "2 -0.397463 -0.274585   0.108149 -0.483292\n",
       "3 -1.423175 -1.372924   1.790474 -1.430924\n",
       "4  0.115393 -0.274585  -1.093511  0.085287"
      ]
     },
     "execution_count": 334,
     "metadata": {},
     "output_type": "execute_result"
    }
   ],
   "source": [
    "#we need to normalize the features using mean normalization\n",
    "my_data = (dff - dff.mean())/dff.std()\n",
    "my_data.head()"
   ]
  },
  {
   "cell_type": "code",
   "execution_count": 342,
   "id": "72999c3b",
   "metadata": {},
   "outputs": [],
   "source": [
    "#setting the matrixes\n",
    "X = my_data.iloc[:,0:3]\n",
    "ones = np.ones([X.shape[0],1])\n",
    "X = np.concatenate((ones,X),axis=1)\n",
    "\n",
    "y = my_data.iloc[:,3:4].values #.values converts it from pandas.core.frame.DataFrame to numpy.ndarray\n",
    "theta = np.zeros([1,4])\n",
    "\n",
    "#set hyper parameters\n",
    "alpha = 0.01\n",
    "iters = 1000"
   ]
  },
  {
   "cell_type": "code",
   "execution_count": 343,
   "id": "5e8879fe",
   "metadata": {},
   "outputs": [],
   "source": [
    "#computecost\n",
    "def computeCost(X,y,theta):\n",
    "    tobesummed = np.power(((X @ theta.T)-y),2)\n",
    "    return np.sum(tobesummed)/(2 * len(X))"
   ]
  },
  {
   "cell_type": "code",
   "execution_count": 344,
   "id": "32dfe6d1",
   "metadata": {},
   "outputs": [
    {
     "name": "stdout",
     "output_type": "stream",
     "text": [
      "[[ 1.55e-18  4.70e-01  3.38e-01 -2.08e-01]]\n",
      "0.012581089432249068\n"
     ]
    }
   ],
   "source": [
    "#gradient descent\n",
    "def gradientDescent(X,y,theta,iters,alpha):\n",
    "    cost = np.zeros(iters)\n",
    "    for i in range(iters):\n",
    "        theta = theta - (alpha/len(X)) * np.sum(X * (X @ theta.T - y), axis=0)\n",
    "        cost[i] = computeCost(X, y, theta)\n",
    "    \n",
    "    return theta,cost\n",
    "\n",
    "#running the gd and cost function\n",
    "g,cost = gradientDescent(X,y,theta,iters,alpha)\n",
    "print(g)\n",
    "\n",
    "finalCost = computeCost(X,y,g)\n",
    "print(finalCost)"
   ]
  },
  {
   "cell_type": "code",
   "execution_count": 345,
   "id": "39b00016",
   "metadata": {},
   "outputs": [
    {
     "data": {
      "text/plain": [
       "Text(0.5, 1.0, 'Error vs. Training Epoch')"
      ]
     },
     "execution_count": 345,
     "metadata": {},
     "output_type": "execute_result"
    },
    {
     "data": {
      "image/png": "[encoded data removed]",
      "text/plain": [
       "<Figure size 432x288 with 1 Axes>"
      ]
     },
     "metadata": {
      "needs_background": "light"
     },
     "output_type": "display_data"
    }
   ],
   "source": [
    "#plot the cost\n",
    "fig, ax = plt.subplots()  \n",
    "ax.plot(np.arange(iters), cost, 'r')  \n",
    "ax.set_xlabel('Iterations')  \n",
    "ax.set_ylabel('Cost')  \n",
    "ax.set_title('Error vs. Training Epoch')"
   ]
  },
  {
   "cell_type": "markdown",
   "id": "1ea0f817",
   "metadata": {},
   "source": [
    "#### Compare the results of the scikit-learn model with the results from the custom implementation."
   ]
  },
  {
   "cell_type": "code",
   "execution_count": null,
   "id": "d36dd611",
   "metadata": {},
   "outputs": [],
   "source": [
    "## Write your code here : \n"
   ]
  },
  {
   "cell_type": "markdown",
   "id": "f59fcfd6",
   "metadata": {},
   "source": [
    "---------------"
   ]
  },
  {
   "cell_type": "markdown",
   "id": "81d668c7",
   "metadata": {},
   "source": [
    "<h2><center><center><h2><h2><center><span style=\"color:#2189b5\">The end</span><center><h2>"
   ]
  },
  {
   "cell_type": "markdown",
   "id": "1bc0d753",
   "metadata": {},
   "source": [
    "------"
   ]
  },
  {
   "cell_type": "code",
   "execution_count": null,
   "id": "2ad210ac",
   "metadata": {},
   "outputs": [],
   "source": [
    "w_init = np.array([ 1650,3, 7])\n",
    "b_init = 298270.220421"
   ]
  },
  {
   "cell_type": "code",
   "execution_count": null,
   "id": "7df53a7b",
   "metadata": {},
   "outputs": [],
   "source": [
    "def predict_single_loop(x, w, b): \n",
    "    \"\"\"\n",
    "    single predict using linear regression\n",
    "    \n",
    "    Args:\n",
    "      x (ndarray): Shape (n,) example with multiple features\n",
    "      w (ndarray): Shape (n,) model parameters    \n",
    "      b (scalar):  model parameter     \n",
    "      \n",
    "    Returns:\n",
    "      p (scalar):  prediction\n",
    "    \"\"\"\n",
    "    n = x.shape[0]\n",
    "    p = 0\n",
    "    for i in range(n):\n",
    "        p_i = x[i] * w[i]  \n",
    "        p = p + p_i         \n",
    "    p = p + b                \n",
    "    return p"
   ]
  },
  {
   "cell_type": "code",
   "execution_count": null,
   "id": "4403490b",
   "metadata": {},
   "outputs": [
    {
     "name": "stdout",
     "output_type": "stream",
     "text": [
      "x_vec shape (3,), x_vec value: [ 0.89283615  0.8553372  -0.92016087]\n",
      "f_wb shape (), prediction: 299739.52496078616\n"
     ]
    }
   ],
   "source": [
    "# get a row from our training data\n",
    "x_vec = X_train[0,:]\n",
    "print(f\"x_vec shape {x_vec.shape}, x_vec value: {x_vec}\")\n",
    "\n",
    "# make a prediction\n",
    "f_wb = predict_single_loop(x_vec, w_init, b_init)\n",
    "print(f\"f_wb shape {f_wb.shape}, prediction: {f_wb}\")"
   ]
  },
  {
   "cell_type": "code",
   "execution_count": null,
   "id": "311ca140",
   "metadata": {},
   "outputs": [],
   "source": [
    "def predict(x, w, b): \n",
    "    \"\"\"\n",
    "    single predict using linear regression\n",
    "    Args:\n",
    "      x (ndarray): Shape (n,) example with multiple features\n",
    "      w (ndarray): Shape (n,) model parameters   \n",
    "      b (scalar):             model parameter \n",
    "      \n",
    "    Returns:\n",
    "      p (scalar):  prediction\n",
    "    \"\"\"\n",
    "    p = np.dot(x, w) + b     \n",
    "    return p  "
   ]
  },
  {
   "cell_type": "code",
   "execution_count": null,
   "id": "03f60f08",
   "metadata": {},
   "outputs": [],
   "source": [
    "def compute_cost(X, y, w, b): \n",
    "    \"\"\"\n",
    "    compute cost\n",
    "    Args:\n",
    "      X (ndarray (m,n)): Data, m examples with n features\n",
    "      y (ndarray (m,)) : target values\n",
    "      w (ndarray (n,)) : model parameters  \n",
    "      b (scalar)       : model parameter\n",
    "      \n",
    "    Returns:\n",
    "      cost (scalar): cost\n",
    "    \"\"\"\n",
    "    m = X.shape[0]\n",
    "    cost = 0.0\n",
    "    for i in range(m):                                \n",
    "        f_wb_i = np.dot(X[i], w) + b           #(n,)(n,) = scalar (see np.dot)\n",
    "        cost = cost + (f_wb_i - y[i])**2       #scalar\n",
    "    cost = cost / (2 * m)                      #scalar    \n",
    "    return cost"
   ]
  },
  {
   "cell_type": "code",
   "execution_count": null,
   "id": "b81872d0",
   "metadata": {},
   "outputs": [],
   "source": [
    "def compute_gradient(X, y, w, b): \n",
    "    \"\"\"\n",
    "    Computes the gradient for linear regression \n",
    "    Args:\n",
    "      X (ndarray (m,n)): Data, m examples with n features\n",
    "      y (ndarray (m,)) : target values\n",
    "      w (ndarray (n,)) : model parameters  \n",
    "      b (scalar)       : model parameter\n",
    "      \n",
    "    Returns:\n",
    "      dj_dw (ndarray (n,)): The gradient of the cost w.r.t. the parameters w. \n",
    "      dj_db (scalar):       The gradient of the cost w.r.t. the parameter b. \n",
    "    \"\"\"\n",
    "    m,n = X.shape           #(number of examples, number of features)\n",
    "    dj_dw = np.zeros((n,))\n",
    "    dj_db = 0.\n",
    "\n",
    "    for i in range(m):                             \n",
    "        err = (np.dot(X[i], w) + b) - y[i]   \n",
    "        for j in range(n):                         \n",
    "            dj_dw[j] = dj_dw[j] + err * X[i, j]    \n",
    "        dj_db = dj_db + err                        \n",
    "    dj_dw = dj_dw / m                                \n",
    "    dj_db = dj_db / m                                \n",
    "        \n",
    "    return dj_db, dj_dw"
   ]
  },
  {
   "cell_type": "code",
   "execution_count": null,
   "id": "b614fd31",
   "metadata": {},
   "outputs": [
    {
     "name": "stdout",
     "output_type": "stream",
     "text": [
      "Cost at optimal w : 3238556265.0535965\n"
     ]
    }
   ],
   "source": [
    "# Compute and display cost using our pre-chosen optimal parameters. \n",
    "cost = compute_cost(X_train, y_train, w_init, b_init)\n",
    "print(f'Cost at optimal w : {cost}')"
   ]
  },
  {
   "cell_type": "code",
   "execution_count": 255,
   "id": "6d0da4bc",
   "metadata": {},
   "outputs": [],
   "source": [
    "def gradient_descent(X, y, w_in, b_in, cost_function, gradient_function, alpha, num_iters): \n",
    "    \"\"\"\n",
    "    Performs batch gradient descent to learn w and b. Updates w and b by taking \n",
    "    num_iters gradient steps with learning rate alpha\n",
    "    \n",
    "    Args:\n",
    "      X (ndarray (m,n))   : Data, m examples with n features\n",
    "      y (ndarray (m,))    : target values\n",
    "      w_in (ndarray (n,)) : initial model parameters  \n",
    "      b_in (scalar)       : initial model parameter\n",
    "      cost_function       : function to compute cost\n",
    "      gradient_function   : function to compute the gradient\n",
    "      alpha (float)       : Learning rate\n",
    "      num_iters (int)     : number of iterations to run gradient descent\n",
    "      \n",
    "    Returns:\n",
    "      w (ndarray (n,)) : Updated values of parameters \n",
    "      b (scalar)       : Updated value of parameter \n",
    "      \"\"\"\n",
    "    \n",
    "    # An array to store cost J and w's at each iteration primarily for graphing later\n",
    "    J_history = []\n",
    "    w = copy.deepcopy(w_in)  #avoid modifying global w within function\n",
    "    b = b_in\n",
    "    \n",
    "    for i in range(num_iters):\n",
    "\n",
    "        # Calculate the gradient and update the parameters\n",
    "        dj_db,dj_dw = gradient_function(X, y, w, b)   ##None\n",
    "\n",
    "        # Update Parameters using w, b, alpha and gradient\n",
    "        w = w - alpha * dj_dw               ##None\n",
    "        b = b - alpha * dj_db               ##None\n",
    "      \n",
    "        # Save cost J at each iteration\n",
    "        if i<100000:      # prevent resource exhaustion \n",
    "            J_history.append( cost_function(X, y, w, b))\n",
    "\n",
    "        # Print cost every at intervals 10 times or as many iterations if < 10\n",
    "        if i% math.ceil(num_iters / 10) == 0:\n",
    "            print(f\"Iteration {i:4d}: Cost {J_history[-1]:8.2f}   \")\n",
    "        \n",
    "    return w, b, J_history #return final w,b and J history for graphing"
   ]
  },
  {
   "cell_type": "code",
   "execution_count": 282,
   "id": "7d48724a",
   "metadata": {},
   "outputs": [
    {
     "name": "stdout",
     "output_type": "stream",
     "text": [
      "Iteration    0: Cost 51816348886.06   \n",
      "Iteration  100: Cost 51810612860.37   \n",
      "Iteration  200: Cost 51804877563.29   \n",
      "Iteration  300: Cost 51799142994.71   \n",
      "Iteration  400: Cost 51793409154.51   \n",
      "Iteration  500: Cost 51787676042.58   \n",
      "Iteration  600: Cost 51781943658.79   \n",
      "Iteration  700: Cost 51776212003.04   \n",
      "Iteration  800: Cost 51770481075.21   \n",
      "Iteration  900: Cost 51764750875.19   \n",
      "b,w found by gradient descent: 155.74,[ 40.04  38.97 -35.87] \n",
      "prediction: 257.83, target value: 390000\n",
      "prediction: 284.72, target value: 400000\n",
      "prediction: 222.41, target value: 350000\n",
      "prediction: -6.66, target value: 200000\n",
      "prediction: 303.10, target value: 420000\n",
      "prediction: 229.58, target value: 360000\n",
      "prediction: 37.27, target value: 230000\n",
      "prediction: 133.43, target value: 275000\n",
      "prediction: 134.77, target value: 300000\n",
      "prediction: 321.26, target value: 450000\n",
      "prediction: 195.74, target value: 320000\n",
      "prediction: -8.01, target value: 190000\n",
      "prediction: 221.07, target value: 380000\n",
      "prediction: 30.10, target value: 240000\n",
      "prediction: 106.53, target value: 260000\n",
      "prediction: 28.75, target value: 220000\n"
     ]
    }
   ],
   "source": [
    "# initialize parameters\n",
    "initial_w = np.zeros_like(w_init)\n",
    "initial_b = 0.\n",
    "# some gradient descent settings\n",
    "iterations = 1000\n",
    "alpha = 5.0e-7\n",
    "# run gradient descent \n",
    "w_final, b_final, J_hist = gradient_descent(X_train, y_train, initial_w, initial_b,\n",
    "                                                    compute_cost, compute_gradient, \n",
    "                                                    alpha, iterations)\n",
    "print(f\"b,w found by gradient descent: {b_final:0.2f},{w_final} \")\n",
    "m,_ = X_train.shape\n",
    "for i in range(m):\n",
    "    print(f\"prediction: {np.dot(X_train[i], w_final) + b_final:0.2f}, target value: {y_train[i]}\")"
   ]
  },
  {
   "cell_type": "code",
   "execution_count": 287,
   "id": "def17dec",
   "metadata": {},
   "outputs": [
    {
     "data": {
      "image/png": "[encoded data removed]",
      "text/plain": [
       "<Figure size 864x288 with 2 Axes>"
      ]
     },
     "metadata": {
      "needs_background": "light"
     },
     "output_type": "display_data"
    }
   ],
   "source": [
    "# plot cost versus iteration  \n",
    "fig, (ax1, ax2) = plt.subplots(1, 2, constrained_layout=True, figsize=(12, 4))\n",
    "ax1.plot(J_hist)\n",
    "ax2.plot(100 + np.arange(len(J_hist[100:])), J_hist[100:])\n",
    "ax1.set_title(\"Cost vs. iteration\");  ax2.set_title(\"Cost vs. iteration (tail)\")\n",
    "ax1.set_ylabel('Cost')             ;  ax2.set_ylabel('Cost') \n",
    "ax1.set_xlabel('iteration step')   ;  ax2.set_xlabel('iteration step') \n",
    "plt.show()"
   ]
  },
  {
   "cell_type": "code",
   "execution_count": null,
   "id": "fcc763ce",
   "metadata": {},
   "outputs": [],
   "source": []
  }
 ],
 "metadata": {
  "kernelspec": {
   "display_name": "Python 3 (ipykernel)",
   "language": "python",
   "name": "python3"
  },
  "language_info": {
   "codemirror_mode": {
    "name": "ipython",
    "version": 3
   },
   "file_extension": ".py",
   "mimetype": "text/x-python",
   "name": "python",
   "nbconvert_exporter": "python",
   "pygments_lexer": "ipython3",
   "version": "3.10.5"
  }
 },
 "nbformat": 4,
 "nbformat_minor": 5
}
